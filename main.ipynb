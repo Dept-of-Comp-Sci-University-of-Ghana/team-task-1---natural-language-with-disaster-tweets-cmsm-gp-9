{
 "cells": [
  {
   "attachments": {},
   "cell_type": "markdown",
   "metadata": {},
   "source": [
    "# Project Guidelines\n",
    "1. Import necessary libraries (Vincy)\n",
    "    - Vectorizers\n",
    "    - Models\n",
    "    - Metrics\n",
    "2. Read data (Vincy)\n",
    "    - Display data info (shape, head, class distribution)\n",
    "    - Split data\n",
    "3. Initialize Vectorizers (George)\n",
    "    - Fit and transform data\n",
    "4. Train model (Kofi)\n",
    "    - Fit model to data\n",
    "    - Predict on test/validation\n",
    "5. Evaluate model(Vincy)\n",
    "    - Plot graphs\n",
    "    - Print metrics\n",
    "6. Perform hyperparemeter tuning(optional) (Kofi and George)\n",
    "7. Save predictions to file for submission (Vincy)\n"
   ]
  },
  {
   "cell_type": "markdown",
   "metadata": {},
   "source": []
  }
 ],
 "metadata": {
  "language_info": {
   "name": "python"
  },
  "orig_nbformat": 4
 },
 "nbformat": 4,
 "nbformat_minor": 2
}
