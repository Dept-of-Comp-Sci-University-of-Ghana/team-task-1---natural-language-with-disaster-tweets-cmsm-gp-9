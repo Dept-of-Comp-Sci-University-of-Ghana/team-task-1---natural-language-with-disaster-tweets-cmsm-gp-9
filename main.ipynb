{
 "cells": [
  {
   "cell_type": "markdown",
   "metadata": {},
   "source": [
    "## Import Libraries"
   ]
  },
  {
   "cell_type": "code",
   "execution_count": 56,
   "metadata": {},
   "outputs": [],
   "source": [
    "#import necessary libraries\n",
    "import pandas as pd\n",
    "import numpy as np\n",
    "from sklearn.model_selection import train_test_split\n",
    "from sklearn.feature_extraction.text import TfidfVectorizer, CountVectorizer, TfidfTransformer\n",
    "import matplotlib.pyplot as plt\n",
    "from sklearn.metrics import accuracy_score,confusion_matrix,classification_report,f1_score, precision_score, recall_score\n",
    "from nltk.corpus import stopwords\n",
    "from nltk.tokenize import word_tokenize\n",
    "import re\n",
    "from sklearn.naive_bayes import MultinomialNB\n",
    "import seaborn as sns\n",
    "\n"
   ]
  },
  {
   "cell_type": "markdown",
   "metadata": {},
   "source": [
    "## Load Data"
   ]
  },
  {
   "cell_type": "code",
   "execution_count": 57,
   "metadata": {},
   "outputs": [],
   "source": [
    "#load data\n",
    "train_data = pd.read_csv('train.csv')\n",
    "test_data = pd.read_csv('test.csv') \n",
    "\n",
    "train_data = pd.DataFrame(train_data)\n",
    "test_data = pd.DataFrame(test_data)"
   ]
  },
  {
   "cell_type": "code",
   "execution_count": 58,
   "metadata": {},
   "outputs": [
    {
     "name": "stdout",
     "output_type": "stream",
     "text": [
      "Training Data:\n",
      "Shape: (7613, 5)\n",
      "\n",
      "Head:\n",
      "   id keyword location                                               text  \\\n",
      "0   1     NaN      NaN  Our Deeds are the Reason of this #earthquake M...   \n",
      "1   4     NaN      NaN             Forest fire near La Ronge Sask. Canada   \n",
      "2   5     NaN      NaN  All residents asked to 'shelter in place' are ...   \n",
      "3   6     NaN      NaN  13,000 people receive #wildfires evacuation or...   \n",
      "4   7     NaN      NaN  Just got sent this photo from Ruby #Alaska as ...   \n",
      "\n",
      "   target  \n",
      "0       1  \n",
      "1       1  \n",
      "2       1  \n",
      "3       1  \n",
      "4       1  \n",
      "\n",
      "Class Distribution:\n",
      "0    4342\n",
      "1    3271\n",
      "Name: target, dtype: int64\n",
      "\n",
      "Test Data:\n",
      "Shape: (3263, 4)\n",
      "\n",
      "Head:\n",
      "   id keyword location                                               text\n",
      "0   0     NaN      NaN                 Just happened a terrible car crash\n",
      "1   2     NaN      NaN  Heard about #earthquake is different cities, s...\n",
      "2   3     NaN      NaN  there is a forest fire at spot pond, geese are...\n",
      "3   9     NaN      NaN           Apocalypse lighting. #Spokane #wildfires\n",
      "4  11     NaN      NaN      Typhoon Soudelor kills 28 in China and Taiwan\n"
     ]
    }
   ],
   "source": [
    "# Display data information\n",
    "print(\"Training Data:\")\n",
    "print(\"Shape:\", train_data.shape)\n",
    "print(\"\\nHead:\")\n",
    "print(train_data.head())\n",
    "print(\"\\nClass Distribution:\")\n",
    "print(train_data['target'].value_counts())\n",
    "\n",
    "print(\"\\nTest Data:\")\n",
    "print(\"Shape:\", test_data.shape)\n",
    "print(\"\\nHead:\")\n",
    "print(test_data.head())"
   ]
  },
  {
   "cell_type": "code",
   "execution_count": 59,
   "metadata": {},
   "outputs": [
    {
     "name": "stdout",
     "output_type": "stream",
     "text": [
      "Training Data:\n",
      "Shape: (7613, 3)\n",
      "\n",
      "Head:\n",
      "   id                                               text  target\n",
      "0   1  Our Deeds are the Reason of this #earthquake M...       1\n",
      "1   4             Forest fire near La Ronge Sask. Canada       1\n",
      "2   5  All residents asked to 'shelter in place' are ...       1\n",
      "3   6  13,000 people receive #wildfires evacuation or...       1\n",
      "4   7  Just got sent this photo from Ruby #Alaska as ...       1\n",
      "\n",
      "Class Distribution:\n",
      "0    4342\n",
      "1    3271\n",
      "Name: target, dtype: int64\n",
      "\n",
      "Test Data:\n",
      "Shape: (3263, 2)\n",
      "\n",
      "Head:\n",
      "   id                                               text\n",
      "0   0                 Just happened a terrible car crash\n",
      "1   2  Heard about #earthquake is different cities, s...\n",
      "2   3  there is a forest fire at spot pond, geese are...\n",
      "3   9           Apocalypse lighting. #Spokane #wildfires\n",
      "4  11      Typhoon Soudelor kills 28 in China and Taiwan\n"
     ]
    }
   ],
   "source": [
    "train_data = train_data.drop(['keyword','location'], axis = 1)\n",
    "test_data = test_data.drop(['keyword' , 'location'], axis = 1)\n",
    "\n",
    "# Display data information\n",
    "print(\"Training Data:\")\n",
    "print(\"Shape:\", train_data.shape)\n",
    "print(\"\\nHead:\")\n",
    "print(train_data.head())\n",
    "print(\"\\nClass Distribution:\")\n",
    "print(train_data['target'].value_counts())\n",
    "\n",
    "print(\"\\nTest Data:\")\n",
    "print(\"Shape:\", test_data.shape)\n",
    "print(\"\\nHead:\")\n",
    "print(test_data.head())"
   ]
  },
  {
   "cell_type": "code",
   "execution_count": 60,
   "metadata": {},
   "outputs": [],
   "source": [
    "#Clean Text\n",
    "def cleanTxt(text):\n",
    "    text = re.sub(r'@[A-Za-z0-9]+', '', text)   # Removes @mention\n",
    "    text = re.sub(r'#', '',text)    # Removing the hashtags\n",
    "    text= re.sub(r'RT[\\s]:+', '', text)  # Removing retweets\n",
    "    text = re.sub(r'https?://\\S+|www\\.\\S+', '', text) #Removing hyperlinks\n",
    "    text = text.lower()\n",
    "    return text\n",
    "train_data['text']= train_data['text'].apply(cleanTxt)\n",
    "test_data['text']= test_data['text'].apply(cleanTxt)"
   ]
  },
  {
   "cell_type": "markdown",
   "metadata": {},
   "source": [
    "## Transform data"
   ]
  },
  {
   "cell_type": "code",
   "execution_count": 61,
   "metadata": {},
   "outputs": [],
   "source": [
    "#Split Data\n",
    "X_train, X_valid, y_train, y_valid = train_test_split(train_data['text'], train_data['target'], test_size=0.3, random_state=42)\n",
    "X_test = test_data['text']"
   ]
  },
  {
   "cell_type": "code",
   "execution_count": 62,
   "metadata": {},
   "outputs": [],
   "source": [
    "# Initialize count vectorizer\n",
    "# count_vectorizer = CountVectorizer(stop_words='english', min_df=0.05, max_df=0.9)\n",
    "\n",
    "# # Create count train and test variables\n",
    "# count_train = count_vectorizer.fit_transform(X_train)\n",
    "# count_test = count_vectorizer.transform(X_valid)\n",
    "\n",
    "# Initialize tfidf vectorizer\n",
    "tfidf_vectorizer = TfidfVectorizer(stop_words='english')\n",
    "\n",
    "# Create tfidf train and test variables\n",
    "tfidf_train = tfidf_vectorizer.fit_transform(X_train)\n",
    "tfidf_test = tfidf_vectorizer.transform(X_valid)"
   ]
  },
  {
   "cell_type": "code",
   "execution_count": 63,
   "metadata": {},
   "outputs": [],
   "source": [
    "\n",
    "tf_transformer = TfidfTransformer().fit(tfidf_train, y_train)\n",
    "tfidf_train = tf_transformer.transform(tfidf_train)\n",
    "tfidf_test1 =tfidf_vectorizer.transform(test_data['text'])\n"
   ]
  },
  {
   "cell_type": "markdown",
   "metadata": {},
   "source": [
    "# Train model"
   ]
  },
  {
   "cell_type": "code",
   "execution_count": 64,
   "metadata": {},
   "outputs": [
    {
     "name": "stdout",
     "output_type": "stream",
     "text": [
      "NaiveBayes TF-IDF Accuracy: 0.8012259194395797\n",
      "   id                                               text  target\n",
      "0   0                 just happened a terrible car crash       0\n",
      "1   2  heard about earthquake is different cities, st...       1\n",
      "2   3  there is a forest fire at spot pond, geese are...       1\n",
      "3   9             apocalypse lighting. spokane wildfires       1\n",
      "4  11      typhoon soudelor kills 28 in china and taiwan       1\n"
     ]
    }
   ],
   "source": [
    "\n",
    "# mnbc = MultinomialNB()\n",
    "# mnbc.fit(count_train, y_train)\n",
    "# countvect_pred = mnbc.predict(count_test)\n",
    "# mnbc_score = accuracy_score(y_valid, countvect_pred)\n",
    "# print(\"NaiveBayes CountVectorizer Accuracy:\", mnbc_score)\n",
    "\n",
    "\n",
    "mnbt = MultinomialNB()\n",
    "mnbt.fit(tfidf_train, y_train)\n",
    "tfidf_pred = mnbt.predict(tfidf_test)\n",
    "tfidf_pred1 = mnbt.predict(tfidf_test1)\n",
    "test_data['target'] = tfidf_pred1\n",
    "mnbt_score = accuracy_score(y_valid, tfidf_pred)\n",
    "print(\"NaiveBayes TF-IDF Accuracy:\", mnbt_score)\n",
    "print(test_data.head())\n"
   ]
  },
  {
   "cell_type": "code",
   "execution_count": 65,
   "metadata": {},
   "outputs": [
    {
     "name": "stdout",
     "output_type": "stream",
     "text": [
      "Logistic Regression model Accuracy: 0.8012259194395797\n",
      "Logistic Regression model F1 Score: 0.7440811724915444\n",
      "Logistic Regression model Precision: 0.8168316831683168\n",
      "Logistic Regression model Recall: 0.6832298136645962\n",
      "              precision    recall  f1-score   support\n",
      "\n",
      "           0       0.79      0.89      0.84      1318\n",
      "           1       0.82      0.68      0.74       966\n",
      "\n",
      "    accuracy                           0.80      2284\n",
      "   macro avg       0.80      0.79      0.79      2284\n",
      "weighted avg       0.80      0.80      0.80      2284\n",
      "\n"
     ]
    }
   ],
   "source": [
    "# Calculate evaluation metrics using the actual target values from the validation dataset\n",
    "accuracy = accuracy_score(y_valid, tfidf_pred)\n",
    "f1 = f1_score(y_valid, tfidf_pred)\n",
    "precision = precision_score(y_valid, tfidf_pred)\n",
    "recall = recall_score(y_valid, tfidf_pred)\n",
    "report = classification_report(y_valid, tfidf_pred)\n",
    "\n",
    "# Print the evaluation metrics\n",
    "print(\"Logistic Regression model Accuracy:\", accuracy)\n",
    "print(\"Logistic Regression model F1 Score:\", f1)\n",
    "print(\"Logistic Regression model Precision:\", precision)\n",
    "print(\"Logistic Regression model Recall:\", recall)\n",
    "print(report)"
   ]
  },
  {
   "cell_type": "code",
   "execution_count": 66,
   "metadata": {},
   "outputs": [
    {
     "data": {
      "image/png": "[encoded data removed]",
      "text/plain": [
       "<Figure size 800x600 with 2 Axes>"
      ]
     },
     "metadata": {},
     "output_type": "display_data"
    }
   ],
   "source": [
    "# Visualize the Confusion Matrix for Multinomial Naive Bayes model\n",
    "cm = confusion_matrix(y_valid, tfidf_pred)\n",
    "plt.figure(figsize=(8, 6))\n",
    "sns.heatmap(cm, annot=True, cmap='Blues', fmt='d')\n",
    "plt.title('Confusion Matrix of Multinomial Naive Bayes Model')\n",
    "plt.xlabel('Predicted')\n",
    "plt.ylabel('Actual')\n",
    "plt.show()"
   ]
  },
  {
   "cell_type": "code",
   "execution_count": 67,
   "metadata": {},
   "outputs": [
    {
     "name": "stdout",
     "output_type": "stream",
     "text": [
      "Linear SVC TF-IDF Accuracy: 0.7806479859894921\n",
      "   id                                               text  target\n",
      "0   0                 just happened a terrible car crash       0\n",
      "1   2  heard about earthquake is different cities, st...       1\n",
      "2   3  there is a forest fire at spot pond, geese are...       1\n",
      "3   9             apocalypse lighting. spokane wildfires       1\n",
      "4  11      typhoon soudelor kills 28 in china and taiwan       1\n"
     ]
    }
   ],
   "source": [
    "from sklearn.svm import LinearSVC\n",
    "lin_svc = LinearSVC()\n",
    "lin_svc.fit(tfidf_train, y_train)\n",
    "lin_svc_pred = lin_svc.predict(tfidf_test)\n",
    "lin_svc_pred1 = lin_svc.predict(tfidf_test1)\n",
    "test_data['target'] = lin_svc_pred1\n",
    "lin_score = accuracy_score(y_valid, lin_svc_pred)\n",
    "print(\"Linear SVC TF-IDF Accuracy:\", lin_score)\n",
    "print(test_data.head())\n"
   ]
  },
  {
   "cell_type": "code",
   "execution_count": 68,
   "metadata": {},
   "outputs": [
    {
     "name": "stdout",
     "output_type": "stream",
     "text": [
      "Logistic Regression model Accuracy: 0.7806479859894921\n",
      "Logistic Regression model F1 Score: 0.7364544976328249\n",
      "Logistic Regression model Precision: 0.7486631016042781\n",
      "Logistic Regression model Recall: 0.7246376811594203\n",
      "              precision    recall  f1-score   support\n",
      "\n",
      "           0       0.80      0.82      0.81      1318\n",
      "           1       0.75      0.72      0.74       966\n",
      "\n",
      "    accuracy                           0.78      2284\n",
      "   macro avg       0.78      0.77      0.77      2284\n",
      "weighted avg       0.78      0.78      0.78      2284\n",
      "\n"
     ]
    }
   ],
   "source": [
    "# Calculate evaluation metrics using the actual target values from the validation dataset\n",
    "accuracy = accuracy_score(y_valid, lin_svc_pred)\n",
    "f1 = f1_score(y_valid, lin_svc_pred)\n",
    "precision = precision_score(y_valid, lin_svc_pred)\n",
    "recall = recall_score(y_valid, lin_svc_pred)\n",
    "report = classification_report(y_valid, lin_svc_pred)\n",
    "\n",
    "# Print the evaluation metrics\n",
    "print(\"Logistic Regression model Accuracy:\", accuracy)\n",
    "print(\"Logistic Regression model F1 Score:\", f1)\n",
    "print(\"Logistic Regression model Precision:\", precision)\n",
    "print(\"Logistic Regression model Recall:\", recall)\n",
    "print(report)"
   ]
  },
  {
   "cell_type": "code",
   "execution_count": 69,
   "metadata": {},
   "outputs": [
    {
     "data": {
      "image/png": "[encoded data removed]",
      "text/plain": [
       "<Figure size 800x600 with 2 Axes>"
      ]
     },
     "metadata": {},
     "output_type": "display_data"
    }
   ],
   "source": [
    "# Visualize the Confusion Matrix for Multinomial Naive Bayes model\n",
    "cm = confusion_matrix(y_valid, lin_svc_pred)\n",
    "plt.figure(figsize=(8, 6))\n",
    "sns.heatmap(cm, annot=True, cmap='Blues', fmt='d')\n",
    "plt.title('Confusion Matrix of Multinomial Naive Bayes Model')\n",
    "plt.xlabel('Predicted')\n",
    "plt.ylabel('Actual')\n",
    "plt.show()"
   ]
  },
  {
   "cell_type": "code",
   "execution_count": 70,
   "metadata": {},
   "outputs": [
    {
     "name": "stdout",
     "output_type": "stream",
     "text": [
      "SVC TF-IDF Accuracy: 0.8016637478108581\n",
      "   id                                               text  target\n",
      "0   0                 just happened a terrible car crash       0\n",
      "1   2  heard about earthquake is different cities, st...       1\n",
      "2   3  there is a forest fire at spot pond, geese are...       1\n",
      "3   9             apocalypse lighting. spokane wildfires       0\n",
      "4  11      typhoon soudelor kills 28 in china and taiwan       1\n"
     ]
    }
   ],
   "source": [
    "from sklearn.svm import SVC\n",
    "svc = SVC()\n",
    "svc.fit(tfidf_train, y_train)\n",
    "svc_pred = svc.predict(tfidf_test)\n",
    "svc_pred1 = svc.predict(tfidf_test1)\n",
    "test_data['target'] = svc_pred1\n",
    "lin_score = accuracy_score(y_valid, svc_pred)\n",
    "print(\"SVC TF-IDF Accuracy:\", lin_score)\n",
    "print(test_data.head())"
   ]
  },
  {
   "cell_type": "code",
   "execution_count": 71,
   "metadata": {},
   "outputs": [
    {
     "name": "stdout",
     "output_type": "stream",
     "text": [
      "Logistic Regression model Accuracy: 0.8016637478108581\n",
      "Logistic Regression model F1 Score: 0.7367809413131902\n",
      "Logistic Regression model Precision: 0.8397350993377484\n",
      "Logistic Regression model Recall: 0.6563146997929606\n",
      "              precision    recall  f1-score   support\n",
      "\n",
      "           0       0.78      0.91      0.84      1318\n",
      "           1       0.84      0.66      0.74       966\n",
      "\n",
      "    accuracy                           0.80      2284\n",
      "   macro avg       0.81      0.78      0.79      2284\n",
      "weighted avg       0.81      0.80      0.80      2284\n",
      "\n"
     ]
    }
   ],
   "source": [
    "# Calculate evaluation metrics using the actual target values from the validation dataset\n",
    "accuracy = accuracy_score(y_valid, svc_pred)\n",
    "f1 = f1_score(y_valid, svc_pred)\n",
    "precision = precision_score(y_valid, svc_pred)\n",
    "recall = recall_score(y_valid, svc_pred)\n",
    "report = classification_report(y_valid, svc_pred)\n",
    "\n",
    "# Print the evaluation metrics\n",
    "print(\"Logistic Regression model Accuracy:\", accuracy)\n",
    "print(\"Logistic Regression model F1 Score:\", f1)\n",
    "print(\"Logistic Regression model Precision:\", precision)\n",
    "print(\"Logistic Regression model Recall:\", recall)\n",
    "print(report)"
   ]
  },
  {
   "cell_type": "code",
   "execution_count": 72,
   "metadata": {},
   "outputs": [
    {
     "data": {
      "image/png": "[encoded data removed]",
      "text/plain": [
       "<Figure size 800x600 with 2 Axes>"
      ]
     },
     "metadata": {},
     "output_type": "display_data"
    }
   ],
   "source": [
    "# Visualize the Confusion Matrix for Multinomial Naive Bayes model\n",
    "cm = confusion_matrix(y_valid, svc_pred)\n",
    "plt.figure(figsize=(8, 6))\n",
    "sns.heatmap(cm, annot=True, cmap='Blues', fmt='d')\n",
    "plt.title('Confusion Matrix of SVC Model')\n",
    "plt.xlabel('Predicted')\n",
    "plt.ylabel('Actual')\n",
    "plt.show()"
   ]
  },
  {
   "cell_type": "code",
   "execution_count": 73,
   "metadata": {},
   "outputs": [
    {
     "name": "stdout",
     "output_type": "stream",
     "text": [
      "       target\n",
      "id           \n",
      "0           0\n",
      "2           1\n",
      "3           1\n",
      "9           0\n",
      "11          1\n",
      "...       ...\n",
      "10861       1\n",
      "10865       1\n",
      "10868       1\n",
      "10874       1\n",
      "10875       1\n",
      "\n",
      "[3263 rows x 1 columns]\n"
     ]
    }
   ],
   "source": [
    "#Convert to CSV\n",
    "test_data = test_data.drop('text', axis = 1)\n",
    "test_data = test_data.set_index('id')\n",
    "test_data.to_csv('Disaster.csv')\n",
    "print(test_data)"
   ]
  }
 ],
 "metadata": {
  "kernelspec": {
   "display_name": "Python 3 (ipykernel)",
   "language": "python",
   "name": "python3"
  },
  "language_info": {
   "codemirror_mode": {
    "name": "ipython",
    "version": 3
   },
   "file_extension": ".py",
   "mimetype": "text/x-python",
   "name": "python",
   "nbconvert_exporter": "python",
   "pygments_lexer": "ipython3",
   "version": "3.9.13"
  }
 },
 "nbformat": 4,
 "nbformat_minor": 2
}
